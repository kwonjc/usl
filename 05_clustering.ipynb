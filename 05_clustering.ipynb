{
 "cells": [
  {
   "cell_type": "code",
   "execution_count": 1,
   "metadata": {},
   "outputs": [],
   "source": [
    "# 라이브러리 불러오기\n",
    "'''메인 라이브러리'''\n",
    "import numpy as np\n",
    "import pandas as pd\n",
    "import os, time\n",
    "import pickle, gzip\n",
    "\n",
    "'''시각화 관련 라이브러리'''\n",
    "import matplotlib.pyplot as plt\n",
    "import seaborn as sns\n",
    "color = sns.color_palette()\n",
    "import matplotlib as mpl\n",
    "\n",
    "%matplotlib inline\n",
    "\n",
    "'''데이터 준비 및 모델 평가 관련 라이브러리'''\n",
    "from sklearn import preprocessing as pp\n",
    "from sklearn.model_selection import train_test_split \n",
    "from sklearn.metrics import precision_recall_curve, average_precision_score\n",
    "from sklearn.metrics import roc_curve, auc, roc_auc_score\n",
    "\n",
    "'''알고리즘 관련 라이브러리'''\n",
    "from sklearn.decomposition import PCA\n",
    "from sklearn.cluster import KMeans\n",
    "import fastcluster\n",
    "from scipy.cluster.hierarchy import dendrogram, cophenet, fcluster\n",
    "from scipy.spatial.distance import pdist"
   ]
  },
  {
   "cell_type": "code",
   "execution_count": 2,
   "metadata": {},
   "outputs": [],
   "source": [
    "# 데이터 셋 로드\n",
    "current_path = os.getcwd()\n",
    "file = os.path.sep.join(['', 'datasets', 'mnist_data', 'mnist.pkl.gz'])\n",
    "\n",
    "f = gzip.open(current_path+file, 'rb')\n",
    "train_set, validation_set, test_set = pickle.load(f, encoding='latin1')\n",
    "f.close()\n",
    "\n",
    "X_train, y_train = train_set[0], train_set[1]\n",
    "X_validation, y_validation = validation_set[0], validation_set[1]\n",
    "X_test, y_test = test_set[0], test_set[1]"
   ]
  },
  {
   "cell_type": "code",
   "execution_count": 3,
   "metadata": {},
   "outputs": [],
   "source": [
    "# 데이터 셋으로부터 판다스 데이터 프레임 만들기\n",
    "train_index = range(0,len(X_train))\n",
    "validation_index = range(len(X_train), \\\n",
    "                         len(X_train)+len(X_validation))\n",
    "test_index = range(len(X_train)+len(X_validation), \\\n",
    "                   len(X_train)+len(X_validation)+len(X_test))\n",
    "\n",
    "X_train = pd.DataFrame(data=X_train,index=train_index)\n",
    "y_train = pd.Series(data=y_train,index=train_index)\n",
    "\n",
    "X_validation = pd.DataFrame(data=X_validation,index=validation_index)\n",
    "y_validation = pd.Series(data=y_validation,index=validation_index)\n",
    "\n",
    "X_test = pd.DataFrame(data=X_test,index=test_index)\n",
    "y_test = pd.Series(data=y_test,index=test_index)"
   ]
  },
  {
   "cell_type": "code",
   "execution_count": 4,
   "metadata": {},
   "outputs": [],
   "source": [
    "# 주성분 분석\n",
    "from sklearn.decomposition import PCA\n",
    "\n",
    "n_components = 784\n",
    "whiten = False\n",
    "random_state = 2018\n",
    "\n",
    "pca = PCA(n_components=n_components, whiten=whiten, \\\n",
    "          random_state=random_state)\n",
    "\n",
    "X_train_PCA = pca.fit_transform(X_train)\n",
    "X_train_PCA = pd.DataFrame(data=X_train_PCA, index=train_index)"
   ]
  },
  {
   "cell_type": "code",
   "execution_count": 5,
   "metadata": {},
   "outputs": [],
   "source": [
    "# K-평균 - 군집 수에 따른 관성\n",
    "from sklearn.cluster import KMeans\n",
    "\n",
    "n_clusters = 10\n",
    "n_init = 10\n",
    "max_iter = 300\n",
    "tol = 0.0001\n",
    "random_state = 2018\n",
    "n_jobs = 2\n",
    "\n",
    "kMeans_inertia = pd.DataFrame(data=[],index=range(2,21), \\\n",
    "                              columns=['inertia'])\n",
    "for n_clusters in range(2,21):\n",
    "    kmeans = KMeans(n_clusters=n_clusters, n_init=n_init, \\\n",
    "                max_iter=max_iter, tol=tol, random_state=random_state, \\\n",
    "                n_jobs=n_jobs)\n",
    "\n",
    "    cutoff = 99\n",
    "    kmeans.fit(X_train_PCA.loc[:,0:cutoff])\n",
    "    kMeans_inertia.loc[n_clusters] = kmeans.inertia_"
   ]
  },
  {
   "cell_type": "code",
   "execution_count": 6,
   "metadata": {},
   "outputs": [
    {
     "data": {
      "text/plain": [
       "<matplotlib.axes._subplots.AxesSubplot at 0x233c268cef0>"
      ]
     },
     "execution_count": 6,
     "metadata": {},
     "output_type": "execute_result"
    },
    {
     "data": {
      "image/png": "[encoded data removed]",
      "text/plain": [
       "<Figure size 432x288 with 1 Axes>"
      ]
     },
     "metadata": {
      "needs_background": "light"
     },
     "output_type": "display_data"
    }
   ],
   "source": [
    "kMeans_inertia.plot()"
   ]
  },
  {
   "cell_type": "code",
   "execution_count": 7,
   "metadata": {},
   "outputs": [],
   "source": [
    "def analyzeCluster(clusterDF, labelsDF):\n",
    "    countByCluster = \\\n",
    "        pd.DataFrame(data=clusterDF['cluster'].value_counts())\n",
    "    countByCluster.reset_index(inplace=True,drop=False)\n",
    "    countByCluster.columns = ['cluster','clusterCount']\n",
    "        \n",
    "    preds = pd.concat([labelsDF,clusterDF], axis=1)\n",
    "    preds.columns = ['trueLabel','cluster']\n",
    "    \n",
    "    countByLabel = pd.DataFrame(data=preds.groupby('trueLabel').count())\n",
    "        \n",
    "    countMostFreq = \\\n",
    "        pd.DataFrame(data=preds.groupby('cluster').agg( \\\n",
    "                        lambda x:x.value_counts().iloc[0]))\n",
    "    countMostFreq.reset_index(inplace=True,drop=False)\n",
    "    countMostFreq.columns = ['cluster','countMostFrequent']\n",
    "    \n",
    "    accuracyDF = countMostFreq.merge(countByCluster, \\\n",
    "                        left_on=\"cluster\",right_on=\"cluster\")\n",
    "    overallAccuracy = accuracyDF.countMostFrequent.sum()/ \\\n",
    "                        accuracyDF.clusterCount.sum()\n",
    "    \n",
    "    accuracyByLabel = accuracyDF.countMostFrequent/ \\\n",
    "                        accuracyDF.clusterCount\n",
    "    \n",
    "    return countByCluster, countByLabel, countMostFreq, \\\n",
    "            accuracyDF, overallAccuracy, accuracyByLabel"
   ]
  },
  {
   "cell_type": "code",
   "execution_count": 8,
   "metadata": {},
   "outputs": [],
   "source": [
    "# K-평균 - 군집 수에 따른 정확도\n",
    "\n",
    "n_clusters = 5\n",
    "n_init = 10\n",
    "max_iter = 300\n",
    "tol = 0.0001\n",
    "random_state = 2018\n",
    "n_jobs = 2\n",
    "\n",
    "kMeans_inertia = \\\n",
    "    pd.DataFrame(data=[],index=range(2,21),columns=['inertia'])\n",
    "overallAccuracy_kMeansDF = \\\n",
    "    pd.DataFrame(data=[],index=range(2,21),columns=['overallAccuracy'])\n",
    "\n",
    "for n_clusters in range(2,21):\n",
    "    kmeans = KMeans(n_clusters=n_clusters, n_init=n_init, \\\n",
    "                max_iter=max_iter, tol=tol, random_state=random_state, \\\n",
    "                n_jobs=n_jobs)\n",
    "\n",
    "    cutoff = 99\n",
    "    kmeans.fit(X_train_PCA.loc[:,0:cutoff])\n",
    "    kMeans_inertia.loc[n_clusters] = kmeans.inertia_\n",
    "    X_train_kmeansClustered = kmeans.predict(X_train_PCA.loc[:,0:cutoff])\n",
    "    X_train_kmeansClustered = \\\n",
    "        pd.DataFrame(data=X_train_kmeansClustered, index=X_train.index, \\\n",
    "                     columns=['cluster'])\n",
    "    \n",
    "    countByCluster_kMeans, countByLabel_kMeans, countMostFreq_kMeans, \\\n",
    "        accuracyDF_kMeans, overallAccuracy_kMeans, accuracyByLabel_kMeans \\\n",
    "        = analyzeCluster(X_train_kmeansClustered, y_train)\n",
    "    \n",
    "    overallAccuracy_kMeansDF.loc[n_clusters] = overallAccuracy_kMeans"
   ]
  },
  {
   "cell_type": "code",
   "execution_count": 9,
   "metadata": {
    "scrolled": true
   },
   "outputs": [
    {
     "data": {
      "text/plain": [
       "<matplotlib.axes._subplots.AxesSubplot at 0x233967f1198>"
      ]
     },
     "execution_count": 9,
     "metadata": {},
     "output_type": "execute_result"
    },
    {
     "data": {
      "image/png": "[encoded data removed]",
      "text/plain": [
       "<Figure size 432x288 with 1 Axes>"
      ]
     },
     "metadata": {
      "needs_background": "light"
     },
     "output_type": "display_data"
    }
   ],
   "source": [
    "overallAccuracy_kMeansDF.plot()"
   ]
  },
  {
   "cell_type": "code",
   "execution_count": 10,
   "metadata": {},
   "outputs": [
    {
     "data": {
      "text/plain": [
       "0     0.636506\n",
       "1     0.928505\n",
       "2     0.848714\n",
       "3     0.521805\n",
       "4     0.714337\n",
       "5     0.950980\n",
       "6     0.893103\n",
       "7     0.919040\n",
       "8     0.404707\n",
       "9     0.500522\n",
       "10    0.381526\n",
       "11    0.587680\n",
       "12    0.463382\n",
       "13    0.958046\n",
       "14    0.870888\n",
       "15    0.942325\n",
       "16    0.791192\n",
       "17    0.843972\n",
       "18    0.455679\n",
       "19    0.926480\n",
       "dtype: float64"
      ]
     },
     "execution_count": 10,
     "metadata": {},
     "output_type": "execute_result"
    }
   ],
   "source": [
    "accuracyByLabel_kMeans"
   ]
  },
  {
   "cell_type": "code",
   "execution_count": 11,
   "metadata": {},
   "outputs": [],
   "source": [
    "# K-평균 - 주성분 수에 따른 정확도\n",
    "\n",
    "n_clusters = 20\n",
    "n_init = 10\n",
    "max_iter = 300\n",
    "tol = 0.0001\n",
    "random_state = 2018\n",
    "n_jobs = 2\n",
    "\n",
    "kMeans_inertia = pd.DataFrame(data=[],index=[9, 49, 99, 199, \\\n",
    "                    299, 399, 499, 599, 699, 783],columns=['inertia'])\n",
    "\n",
    "overallAccuracy_kMeansDF = pd.DataFrame(data=[],index=[9, 49, \\\n",
    "                    99, 199, 299, 399, 499, 599, 699, 783], \\\n",
    "                    columns=['overallAccuracy'])\n",
    "\n",
    "for cutoffNumber in [9, 49, 99, 199, 299, 399, 499, 599, 699, 783]:\n",
    "    kmeans = KMeans(n_clusters=n_clusters, n_init=n_init, \\\n",
    "                max_iter=max_iter, tol=tol, random_state=random_state, \\\n",
    "                n_jobs=n_jobs)\n",
    "\n",
    "    cutoff = cutoffNumber\n",
    "    kmeans.fit(X_train_PCA.loc[:,0:cutoff])\n",
    "    kMeans_inertia.loc[cutoff] = kmeans.inertia_\n",
    "    X_train_kmeansClustered = kmeans.predict(X_train_PCA.loc[:,0:cutoff])\n",
    "    X_train_kmeansClustered = pd.DataFrame(data=X_train_kmeansClustered, \\\n",
    "                                index=X_train.index, columns=['cluster'])\n",
    "    \n",
    "    countByCluster_kMeans, countByLabel_kMeans, countMostFreq_kMeans, \\\n",
    "        accuracyDF_kMeans, overallAccuracy_kMeans, accuracyByLabel_kMeans \\\n",
    "        = analyzeCluster(X_train_kmeansClustered, y_train)\n",
    "    \n",
    "    overallAccuracy_kMeansDF.loc[cutoff] = overallAccuracy_kMeans"
   ]
  },
  {
   "cell_type": "code",
   "execution_count": 12,
   "metadata": {},
   "outputs": [
    {
     "data": {
      "text/plain": [
       "<matplotlib.axes._subplots.AxesSubplot at 0x23396912898>"
      ]
     },
     "execution_count": 12,
     "metadata": {},
     "output_type": "execute_result"
    },
    {
     "data": {
      "image/png": "[encoded data removed]",
      "text/plain": [
       "<Figure size 432x288 with 1 Axes>"
      ]
     },
     "metadata": {
      "needs_background": "light"
     },
     "output_type": "display_data"
    }
   ],
   "source": [
    "overallAccuracy_kMeansDF.plot()"
   ]
  },
  {
   "cell_type": "code",
   "execution_count": 32,
   "metadata": {},
   "outputs": [
    {
     "name": "stderr",
     "output_type": "stream",
     "text": [
      "C:\\Users\\Surface Pro6\\.conda\\envs\\unsupervisedLearning\\lib\\site-packages\\sklearn\\cluster\\k_means_.py:969: ConvergenceWarning: Number of distinct clusters (1) found smaller than n_clusters (20). Possibly due to duplicate points in X.\n",
      "  return_n_iter=True)\n"
     ]
    }
   ],
   "source": [
    "# K-평균 - 주성분 수에 따른 정확도\n",
    "# 원본 MNIST 데이터 셋(PCA를 통한 축소가 없는)\n",
    "\n",
    "n_clusters = 20\n",
    "n_init = 10\n",
    "max_iter = 300\n",
    "tol = 0.0001\n",
    "random_state = 2018\n",
    "n_jobs = 2\n",
    "\n",
    "kMeans_inertia = pd.DataFrame(data=[],index=[9, 49, 99, 199, \\\n",
    "                    299, 399, 499, 599, 699, 783],columns=['inertia'])\n",
    "\n",
    "overallAccuracy_kMeansDF = pd.DataFrame(data=[],index=[9, 49, \\\n",
    "                    99, 199, 299, 399, 499, 599, 699, 783], \\\n",
    "                    columns=['overallAccuracy'])\n",
    "\n",
    "for cutoffNumber in [9, 49, 99, 199, 299, 399, 499, 599, 699, 783]:\n",
    "    kmeans = KMeans(n_clusters=n_clusters, n_init=n_init, \\\n",
    "                max_iter=max_iter, tol=tol, random_state=random_state, \\\n",
    "                n_jobs=n_jobs)\n",
    "\n",
    "    cutoff = cutoffNumber\n",
    "    kmeans.fit(X_train.loc[:,0:cutoff])\n",
    "    kMeans_inertia.loc[cutoff] = kmeans.inertia_\n",
    "    X_train_kmeansClustered = kmeans.predict(X_train.loc[:,0:cutoff])\n",
    "    X_train_kmeansClustered = pd.DataFrame(data=X_train_kmeansClustered, \\\n",
    "                                index=X_train.index, columns=['cluster'])\n",
    "    \n",
    "    countByCluster_kMeans, countByLabel_kMeans, countMostFreq_kMeans, \\\n",
    "        accuracyDF_kMeans, overallAccuracy_kMeans, accuracyByLabel_kMeans \\\n",
    "        = analyzeCluster(X_train_kmeansClustered, y_train)\n",
    "    \n",
    "    overallAccuracy_kMeansDF.loc[cutoff] = overallAccuracy_kMeans"
   ]
  },
  {
   "cell_type": "code",
   "execution_count": 14,
   "metadata": {},
   "outputs": [
    {
     "data": {
      "text/plain": [
       "<matplotlib.axes._subplots.AxesSubplot at 0x2339698c2e8>"
      ]
     },
     "execution_count": 14,
     "metadata": {},
     "output_type": "execute_result"
    },
    {
     "data": {
      "image/png": "[encoded data removed]",
      "text/plain": [
       "<Figure size 432x288 with 1 Axes>"
      ]
     },
     "metadata": {
      "needs_background": "light"
     },
     "output_type": "display_data"
    }
   ],
   "source": [
    "overallAccuracy_kMeansDF.plot()"
   ]
  },
  {
   "cell_type": "code",
   "execution_count": 15,
   "metadata": {},
   "outputs": [],
   "source": [
    "# 계층적 클러스터링"
   ]
  },
  {
   "cell_type": "code",
   "execution_count": 16,
   "metadata": {},
   "outputs": [],
   "source": [
    "import fastcluster\n",
    "from scipy.cluster.hierarchy import dendrogram, cophenet\n",
    "from scipy.spatial.distance import pdist\n",
    "\n",
    "cutoff = 99\n",
    "Z = fastcluster.linkage_vector(X_train_PCA.loc[:,0:cutoff], \\\n",
    "                               method='ward', metric='euclidean')\n",
    "Z_dataFrame = pd.DataFrame(data=Z, \\\n",
    "    columns=['clusterOne','clusterTwo','distance','newClusterSize'])"
   ]
  },
  {
   "cell_type": "code",
   "execution_count": 17,
   "metadata": {},
   "outputs": [
    {
     "data": {
      "text/html": [
       "<div>\n",
       "<style scoped>\n",
       "    .dataframe tbody tr th:only-of-type {\n",
       "        vertical-align: middle;\n",
       "    }\n",
       "\n",
       "    .dataframe tbody tr th {\n",
       "        vertical-align: top;\n",
       "    }\n",
       "\n",
       "    .dataframe thead th {\n",
       "        text-align: right;\n",
       "    }\n",
       "</style>\n",
       "<table border=\"1\" class=\"dataframe\">\n",
       "  <thead>\n",
       "    <tr style=\"text-align: right;\">\n",
       "      <th></th>\n",
       "      <th>clusterOne</th>\n",
       "      <th>clusterTwo</th>\n",
       "      <th>distance</th>\n",
       "      <th>newClusterSize</th>\n",
       "    </tr>\n",
       "  </thead>\n",
       "  <tbody>\n",
       "    <tr>\n",
       "      <td>0</td>\n",
       "      <td>42194.0</td>\n",
       "      <td>43025.0</td>\n",
       "      <td>0.562682</td>\n",
       "      <td>2.0</td>\n",
       "    </tr>\n",
       "    <tr>\n",
       "      <td>1</td>\n",
       "      <td>28350.0</td>\n",
       "      <td>37674.0</td>\n",
       "      <td>0.590866</td>\n",
       "      <td>2.0</td>\n",
       "    </tr>\n",
       "    <tr>\n",
       "      <td>2</td>\n",
       "      <td>26696.0</td>\n",
       "      <td>44705.0</td>\n",
       "      <td>0.621506</td>\n",
       "      <td>2.0</td>\n",
       "    </tr>\n",
       "    <tr>\n",
       "      <td>3</td>\n",
       "      <td>12634.0</td>\n",
       "      <td>32823.0</td>\n",
       "      <td>0.627762</td>\n",
       "      <td>2.0</td>\n",
       "    </tr>\n",
       "    <tr>\n",
       "      <td>4</td>\n",
       "      <td>24707.0</td>\n",
       "      <td>43151.0</td>\n",
       "      <td>0.637668</td>\n",
       "      <td>2.0</td>\n",
       "    </tr>\n",
       "    <tr>\n",
       "      <td>5</td>\n",
       "      <td>20465.0</td>\n",
       "      <td>24483.0</td>\n",
       "      <td>0.662557</td>\n",
       "      <td>2.0</td>\n",
       "    </tr>\n",
       "    <tr>\n",
       "      <td>6</td>\n",
       "      <td>466.0</td>\n",
       "      <td>42098.0</td>\n",
       "      <td>0.664189</td>\n",
       "      <td>2.0</td>\n",
       "    </tr>\n",
       "    <tr>\n",
       "      <td>7</td>\n",
       "      <td>46542.0</td>\n",
       "      <td>49961.0</td>\n",
       "      <td>0.665520</td>\n",
       "      <td>2.0</td>\n",
       "    </tr>\n",
       "    <tr>\n",
       "      <td>8</td>\n",
       "      <td>2301.0</td>\n",
       "      <td>5732.0</td>\n",
       "      <td>0.671215</td>\n",
       "      <td>2.0</td>\n",
       "    </tr>\n",
       "    <tr>\n",
       "      <td>9</td>\n",
       "      <td>37564.0</td>\n",
       "      <td>47668.0</td>\n",
       "      <td>0.675121</td>\n",
       "      <td>2.0</td>\n",
       "    </tr>\n",
       "    <tr>\n",
       "      <td>10</td>\n",
       "      <td>3375.0</td>\n",
       "      <td>26243.0</td>\n",
       "      <td>0.685797</td>\n",
       "      <td>2.0</td>\n",
       "    </tr>\n",
       "    <tr>\n",
       "      <td>11</td>\n",
       "      <td>15722.0</td>\n",
       "      <td>30368.0</td>\n",
       "      <td>0.686356</td>\n",
       "      <td>2.0</td>\n",
       "    </tr>\n",
       "    <tr>\n",
       "      <td>12</td>\n",
       "      <td>21247.0</td>\n",
       "      <td>21575.0</td>\n",
       "      <td>0.694412</td>\n",
       "      <td>2.0</td>\n",
       "    </tr>\n",
       "    <tr>\n",
       "      <td>13</td>\n",
       "      <td>14900.0</td>\n",
       "      <td>42486.0</td>\n",
       "      <td>0.696769</td>\n",
       "      <td>2.0</td>\n",
       "    </tr>\n",
       "    <tr>\n",
       "      <td>14</td>\n",
       "      <td>30100.0</td>\n",
       "      <td>41908.0</td>\n",
       "      <td>0.699261</td>\n",
       "      <td>2.0</td>\n",
       "    </tr>\n",
       "    <tr>\n",
       "      <td>15</td>\n",
       "      <td>12040.0</td>\n",
       "      <td>13254.0</td>\n",
       "      <td>0.701134</td>\n",
       "      <td>2.0</td>\n",
       "    </tr>\n",
       "    <tr>\n",
       "      <td>16</td>\n",
       "      <td>10508.0</td>\n",
       "      <td>25434.0</td>\n",
       "      <td>0.708872</td>\n",
       "      <td>2.0</td>\n",
       "    </tr>\n",
       "    <tr>\n",
       "      <td>17</td>\n",
       "      <td>30695.0</td>\n",
       "      <td>30757.0</td>\n",
       "      <td>0.710023</td>\n",
       "      <td>2.0</td>\n",
       "    </tr>\n",
       "    <tr>\n",
       "      <td>18</td>\n",
       "      <td>31019.0</td>\n",
       "      <td>31033.0</td>\n",
       "      <td>0.712052</td>\n",
       "      <td>2.0</td>\n",
       "    </tr>\n",
       "    <tr>\n",
       "      <td>19</td>\n",
       "      <td>36264.0</td>\n",
       "      <td>37285.0</td>\n",
       "      <td>0.713130</td>\n",
       "      <td>2.0</td>\n",
       "    </tr>\n",
       "  </tbody>\n",
       "</table>\n",
       "</div>"
      ],
      "text/plain": [
       "    clusterOne  clusterTwo  distance  newClusterSize\n",
       "0      42194.0     43025.0  0.562682             2.0\n",
       "1      28350.0     37674.0  0.590866             2.0\n",
       "2      26696.0     44705.0  0.621506             2.0\n",
       "3      12634.0     32823.0  0.627762             2.0\n",
       "4      24707.0     43151.0  0.637668             2.0\n",
       "5      20465.0     24483.0  0.662557             2.0\n",
       "6        466.0     42098.0  0.664189             2.0\n",
       "7      46542.0     49961.0  0.665520             2.0\n",
       "8       2301.0      5732.0  0.671215             2.0\n",
       "9      37564.0     47668.0  0.675121             2.0\n",
       "10      3375.0     26243.0  0.685797             2.0\n",
       "11     15722.0     30368.0  0.686356             2.0\n",
       "12     21247.0     21575.0  0.694412             2.0\n",
       "13     14900.0     42486.0  0.696769             2.0\n",
       "14     30100.0     41908.0  0.699261             2.0\n",
       "15     12040.0     13254.0  0.701134             2.0\n",
       "16     10508.0     25434.0  0.708872             2.0\n",
       "17     30695.0     30757.0  0.710023             2.0\n",
       "18     31019.0     31033.0  0.712052             2.0\n",
       "19     36264.0     37285.0  0.713130             2.0"
      ]
     },
     "execution_count": 17,
     "metadata": {},
     "output_type": "execute_result"
    }
   ],
   "source": [
    "Z_dataFrame.iloc[:20]"
   ]
  },
  {
   "cell_type": "code",
   "execution_count": 18,
   "metadata": {},
   "outputs": [
    {
     "data": {
      "text/html": [
       "<div>\n",
       "<style scoped>\n",
       "    .dataframe tbody tr th:only-of-type {\n",
       "        vertical-align: middle;\n",
       "    }\n",
       "\n",
       "    .dataframe tbody tr th {\n",
       "        vertical-align: top;\n",
       "    }\n",
       "\n",
       "    .dataframe thead th {\n",
       "        text-align: right;\n",
       "    }\n",
       "</style>\n",
       "<table border=\"1\" class=\"dataframe\">\n",
       "  <thead>\n",
       "    <tr style=\"text-align: right;\">\n",
       "      <th></th>\n",
       "      <th>clusterOne</th>\n",
       "      <th>clusterTwo</th>\n",
       "      <th>distance</th>\n",
       "      <th>newClusterSize</th>\n",
       "    </tr>\n",
       "  </thead>\n",
       "  <tbody>\n",
       "    <tr>\n",
       "      <td>49980</td>\n",
       "      <td>99965.0</td>\n",
       "      <td>99972.0</td>\n",
       "      <td>161.106998</td>\n",
       "      <td>5197.0</td>\n",
       "    </tr>\n",
       "    <tr>\n",
       "      <td>49981</td>\n",
       "      <td>99932.0</td>\n",
       "      <td>99980.0</td>\n",
       "      <td>172.070003</td>\n",
       "      <td>6505.0</td>\n",
       "    </tr>\n",
       "    <tr>\n",
       "      <td>49982</td>\n",
       "      <td>99945.0</td>\n",
       "      <td>99960.0</td>\n",
       "      <td>182.840860</td>\n",
       "      <td>3245.0</td>\n",
       "    </tr>\n",
       "    <tr>\n",
       "      <td>49983</td>\n",
       "      <td>99964.0</td>\n",
       "      <td>99976.0</td>\n",
       "      <td>184.475761</td>\n",
       "      <td>3683.0</td>\n",
       "    </tr>\n",
       "    <tr>\n",
       "      <td>49984</td>\n",
       "      <td>99974.0</td>\n",
       "      <td>99979.0</td>\n",
       "      <td>185.027847</td>\n",
       "      <td>7744.0</td>\n",
       "    </tr>\n",
       "    <tr>\n",
       "      <td>49985</td>\n",
       "      <td>99940.0</td>\n",
       "      <td>99975.0</td>\n",
       "      <td>185.345207</td>\n",
       "      <td>5596.0</td>\n",
       "    </tr>\n",
       "    <tr>\n",
       "      <td>49986</td>\n",
       "      <td>99957.0</td>\n",
       "      <td>99967.0</td>\n",
       "      <td>211.854714</td>\n",
       "      <td>5957.0</td>\n",
       "    </tr>\n",
       "    <tr>\n",
       "      <td>49987</td>\n",
       "      <td>99938.0</td>\n",
       "      <td>99983.0</td>\n",
       "      <td>215.494857</td>\n",
       "      <td>4846.0</td>\n",
       "    </tr>\n",
       "    <tr>\n",
       "      <td>49988</td>\n",
       "      <td>99978.0</td>\n",
       "      <td>99984.0</td>\n",
       "      <td>216.760365</td>\n",
       "      <td>11072.0</td>\n",
       "    </tr>\n",
       "    <tr>\n",
       "      <td>49989</td>\n",
       "      <td>99970.0</td>\n",
       "      <td>99973.0</td>\n",
       "      <td>217.355871</td>\n",
       "      <td>4899.0</td>\n",
       "    </tr>\n",
       "    <tr>\n",
       "      <td>49990</td>\n",
       "      <td>99969.0</td>\n",
       "      <td>99986.0</td>\n",
       "      <td>225.468298</td>\n",
       "      <td>8270.0</td>\n",
       "    </tr>\n",
       "    <tr>\n",
       "      <td>49991</td>\n",
       "      <td>99981.0</td>\n",
       "      <td>99982.0</td>\n",
       "      <td>238.845135</td>\n",
       "      <td>9750.0</td>\n",
       "    </tr>\n",
       "    <tr>\n",
       "      <td>49992</td>\n",
       "      <td>99968.0</td>\n",
       "      <td>99977.0</td>\n",
       "      <td>266.146782</td>\n",
       "      <td>5567.0</td>\n",
       "    </tr>\n",
       "    <tr>\n",
       "      <td>49993</td>\n",
       "      <td>99985.0</td>\n",
       "      <td>99989.0</td>\n",
       "      <td>270.929453</td>\n",
       "      <td>10495.0</td>\n",
       "    </tr>\n",
       "    <tr>\n",
       "      <td>49994</td>\n",
       "      <td>99990.0</td>\n",
       "      <td>99991.0</td>\n",
       "      <td>346.840948</td>\n",
       "      <td>18020.0</td>\n",
       "    </tr>\n",
       "    <tr>\n",
       "      <td>49995</td>\n",
       "      <td>99988.0</td>\n",
       "      <td>99993.0</td>\n",
       "      <td>394.365194</td>\n",
       "      <td>21567.0</td>\n",
       "    </tr>\n",
       "    <tr>\n",
       "      <td>49996</td>\n",
       "      <td>99987.0</td>\n",
       "      <td>99995.0</td>\n",
       "      <td>425.142387</td>\n",
       "      <td>26413.0</td>\n",
       "    </tr>\n",
       "    <tr>\n",
       "      <td>49997</td>\n",
       "      <td>99992.0</td>\n",
       "      <td>99994.0</td>\n",
       "      <td>440.148301</td>\n",
       "      <td>23587.0</td>\n",
       "    </tr>\n",
       "    <tr>\n",
       "      <td>49998</td>\n",
       "      <td>99996.0</td>\n",
       "      <td>99997.0</td>\n",
       "      <td>494.383866</td>\n",
       "      <td>50000.0</td>\n",
       "    </tr>\n",
       "  </tbody>\n",
       "</table>\n",
       "</div>"
      ],
      "text/plain": [
       "       clusterOne  clusterTwo    distance  newClusterSize\n",
       "49980     99965.0     99972.0  161.106998          5197.0\n",
       "49981     99932.0     99980.0  172.070003          6505.0\n",
       "49982     99945.0     99960.0  182.840860          3245.0\n",
       "49983     99964.0     99976.0  184.475761          3683.0\n",
       "49984     99974.0     99979.0  185.027847          7744.0\n",
       "49985     99940.0     99975.0  185.345207          5596.0\n",
       "49986     99957.0     99967.0  211.854714          5957.0\n",
       "49987     99938.0     99983.0  215.494857          4846.0\n",
       "49988     99978.0     99984.0  216.760365         11072.0\n",
       "49989     99970.0     99973.0  217.355871          4899.0\n",
       "49990     99969.0     99986.0  225.468298          8270.0\n",
       "49991     99981.0     99982.0  238.845135          9750.0\n",
       "49992     99968.0     99977.0  266.146782          5567.0\n",
       "49993     99985.0     99989.0  270.929453         10495.0\n",
       "49994     99990.0     99991.0  346.840948         18020.0\n",
       "49995     99988.0     99993.0  394.365194         21567.0\n",
       "49996     99987.0     99995.0  425.142387         26413.0\n",
       "49997     99992.0     99994.0  440.148301         23587.0\n",
       "49998     99996.0     99997.0  494.383866         50000.0"
      ]
     },
     "execution_count": 18,
     "metadata": {},
     "output_type": "execute_result"
    }
   ],
   "source": [
    "Z_dataFrame.iloc[49980:]"
   ]
  },
  {
   "cell_type": "code",
   "execution_count": 19,
   "metadata": {},
   "outputs": [],
   "source": [
    "from scipy.cluster.hierarchy import fcluster\n",
    "\n",
    "distance_threshold = 160\n",
    "clusters = fcluster(Z, distance_threshold, criterion='distance')\n",
    "X_train_hierClustered = \\\n",
    "    pd.DataFrame(data=clusters,index=X_train_PCA.index,columns=['cluster'])"
   ]
  },
  {
   "cell_type": "code",
   "execution_count": 20,
   "metadata": {},
   "outputs": [
    {
     "name": "stdout",
     "output_type": "stream",
     "text": [
      "Number of distinct clusters:  20\n"
     ]
    }
   ],
   "source": [
    "print(\"Number of distinct clusters: \", \\\n",
    "      len(X_train_hierClustered['cluster'].unique()))"
   ]
  },
  {
   "cell_type": "code",
   "execution_count": 21,
   "metadata": {},
   "outputs": [
    {
     "name": "stdout",
     "output_type": "stream",
     "text": [
      "Overall accuracy from hierarchical clustering:  0.76882\n"
     ]
    }
   ],
   "source": [
    "countByCluster_hierClust, countByLabel_hierClust, \\\n",
    "    countMostFreq_hierClust, accuracyDF_hierClust, \\\n",
    "    overallAccuracy_hierClust, accuracyByLabel_hierClust \\\n",
    "    = analyzeCluster(X_train_hierClustered, y_train)\n",
    "\n",
    "print(\"Overall accuracy from hierarchical clustering: \", \\\n",
    "      overallAccuracy_hierClust)"
   ]
  },
  {
   "cell_type": "code",
   "execution_count": 22,
   "metadata": {},
   "outputs": [
    {
     "name": "stdout",
     "output_type": "stream",
     "text": [
      "Accuracy by cluster for hierarchical clustering\n"
     ]
    },
    {
     "data": {
      "text/plain": [
       "0     0.987962\n",
       "1     0.983727\n",
       "2     0.988998\n",
       "3     0.597356\n",
       "4     0.678642\n",
       "5     0.442478\n",
       "6     0.950033\n",
       "7     0.829060\n",
       "8     0.976062\n",
       "9     0.986141\n",
       "10    0.990183\n",
       "11    0.992183\n",
       "12    0.971033\n",
       "13    0.554273\n",
       "14    0.553617\n",
       "15    0.720183\n",
       "16    0.538891\n",
       "17    0.484590\n",
       "18    0.957732\n",
       "19    0.977310\n",
       "dtype: float64"
      ]
     },
     "execution_count": 22,
     "metadata": {},
     "output_type": "execute_result"
    }
   ],
   "source": [
    "print(\"Accuracy by cluster for hierarchical clustering\")\n",
    "accuracyByLabel_hierClust"
   ]
  },
  {
   "cell_type": "code",
   "execution_count": 23,
   "metadata": {},
   "outputs": [],
   "source": [
    "# DBSCAN"
   ]
  },
  {
   "cell_type": "code",
   "execution_count": 24,
   "metadata": {},
   "outputs": [
    {
     "data": {
      "text/plain": [
       "0.242"
      ]
     },
     "execution_count": 24,
     "metadata": {},
     "output_type": "execute_result"
    }
   ],
   "source": [
    "from sklearn.cluster import DBSCAN\n",
    "\n",
    "eps = 3\n",
    "min_samples = 5\n",
    "leaf_size = 30\n",
    "n_jobs = 4\n",
    "\n",
    "db = DBSCAN(eps=eps, min_samples=min_samples, leaf_size=leaf_size, \n",
    "            n_jobs=n_jobs)\n",
    "\n",
    "cutoff = 99\n",
    "X_train_PCA_dbscanClustered = db.fit_predict(X_train_PCA.loc[:,0:cutoff])\n",
    "X_train_PCA_dbscanClustered = \\\n",
    "    pd.DataFrame(data=X_train_PCA_dbscanClustered, index=X_train.index, \\\n",
    "                 columns=['cluster'])\n",
    "\n",
    "countByCluster_dbscan, countByLabel_dbscan, countMostFreq_dbscan, \\\n",
    "    accuracyDF_dbscan, overallAccuracy_dbscan, accuracyByLabel_dbscan \\\n",
    "    = analyzeCluster(X_train_PCA_dbscanClustered, y_train)\n",
    "\n",
    "overallAccuracy_dbscan"
   ]
  },
  {
   "cell_type": "code",
   "execution_count": 25,
   "metadata": {},
   "outputs": [
    {
     "name": "stdout",
     "output_type": "stream",
     "text": [
      "Overall accuracy from DBSCAN:  0.242\n"
     ]
    }
   ],
   "source": [
    "print(\"Overall accuracy from DBSCAN: \",overallAccuracy_dbscan)"
   ]
  },
  {
   "cell_type": "code",
   "execution_count": 26,
   "metadata": {
    "scrolled": true
   },
   "outputs": [
    {
     "name": "stdout",
     "output_type": "stream",
     "text": [
      "Cluster results for DBSCAN\n"
     ]
    },
    {
     "data": {
      "text/html": [
       "<div>\n",
       "<style scoped>\n",
       "    .dataframe tbody tr th:only-of-type {\n",
       "        vertical-align: middle;\n",
       "    }\n",
       "\n",
       "    .dataframe tbody tr th {\n",
       "        vertical-align: top;\n",
       "    }\n",
       "\n",
       "    .dataframe thead th {\n",
       "        text-align: right;\n",
       "    }\n",
       "</style>\n",
       "<table border=\"1\" class=\"dataframe\">\n",
       "  <thead>\n",
       "    <tr style=\"text-align: right;\">\n",
       "      <th></th>\n",
       "      <th>cluster</th>\n",
       "      <th>clusterCount</th>\n",
       "    </tr>\n",
       "  </thead>\n",
       "  <tbody>\n",
       "    <tr>\n",
       "      <td>0</td>\n",
       "      <td>-1</td>\n",
       "      <td>39575</td>\n",
       "    </tr>\n",
       "    <tr>\n",
       "      <td>1</td>\n",
       "      <td>0</td>\n",
       "      <td>8885</td>\n",
       "    </tr>\n",
       "    <tr>\n",
       "      <td>2</td>\n",
       "      <td>8</td>\n",
       "      <td>720</td>\n",
       "    </tr>\n",
       "    <tr>\n",
       "      <td>3</td>\n",
       "      <td>5</td>\n",
       "      <td>92</td>\n",
       "    </tr>\n",
       "    <tr>\n",
       "      <td>4</td>\n",
       "      <td>18</td>\n",
       "      <td>51</td>\n",
       "    </tr>\n",
       "    <tr>\n",
       "      <td>...</td>\n",
       "      <td>...</td>\n",
       "      <td>...</td>\n",
       "    </tr>\n",
       "    <tr>\n",
       "      <td>95</td>\n",
       "      <td>43</td>\n",
       "      <td>4</td>\n",
       "    </tr>\n",
       "    <tr>\n",
       "      <td>96</td>\n",
       "      <td>83</td>\n",
       "      <td>4</td>\n",
       "    </tr>\n",
       "    <tr>\n",
       "      <td>97</td>\n",
       "      <td>11</td>\n",
       "      <td>4</td>\n",
       "    </tr>\n",
       "    <tr>\n",
       "      <td>98</td>\n",
       "      <td>54</td>\n",
       "      <td>3</td>\n",
       "    </tr>\n",
       "    <tr>\n",
       "      <td>99</td>\n",
       "      <td>96</td>\n",
       "      <td>3</td>\n",
       "    </tr>\n",
       "  </tbody>\n",
       "</table>\n",
       "<p>100 rows × 2 columns</p>\n",
       "</div>"
      ],
      "text/plain": [
       "    cluster  clusterCount\n",
       "0        -1         39575\n",
       "1         0          8885\n",
       "2         8           720\n",
       "3         5            92\n",
       "4        18            51\n",
       "..      ...           ...\n",
       "95       43             4\n",
       "96       83             4\n",
       "97       11             4\n",
       "98       54             3\n",
       "99       96             3\n",
       "\n",
       "[100 rows x 2 columns]"
      ]
     },
     "execution_count": 26,
     "metadata": {},
     "output_type": "execute_result"
    }
   ],
   "source": [
    "print(\"Cluster results for DBSCAN\")\n",
    "countByCluster_dbscan"
   ]
  },
  {
   "cell_type": "code",
   "execution_count": 27,
   "metadata": {},
   "outputs": [],
   "source": [
    "# HDBSCAN"
   ]
  },
  {
   "cell_type": "code",
   "execution_count": 28,
   "metadata": {},
   "outputs": [
    {
     "name": "stderr",
     "output_type": "stream",
     "text": [
      "C:\\Users\\Surface Pro6\\.conda\\envs\\unsupervisedLearning\\lib\\site-packages\\sklearn\\externals\\six.py:31: DeprecationWarning: The module is deprecated in version 0.21 and will be removed in version 0.23 since we've dropped support for Python 2.7. Please rely on the official version of six (https://pypi.org/project/six/).\n",
      "  \"(https://pypi.org/project/six/).\", DeprecationWarning)\n",
      "C:\\Users\\Surface Pro6\\.conda\\envs\\unsupervisedLearning\\lib\\site-packages\\sklearn\\externals\\joblib\\__init__.py:15: DeprecationWarning: sklearn.externals.joblib is deprecated in 0.21 and will be removed in 0.23. Please import this functionality directly from joblib, which can be installed with: pip install joblib. If this warning is raised when loading pickled models, you may need to re-serialize those models with scikit-learn 0.21+.\n",
      "  warnings.warn(msg, category=DeprecationWarning)\n"
     ]
    }
   ],
   "source": [
    "import hdbscan\n",
    "\n",
    "min_cluster_size = 30\n",
    "min_samples = None\n",
    "alpha = 1.0\n",
    "cluster_selection_method = 'eom'\n",
    "\n",
    "hdb = hdbscan.HDBSCAN(min_cluster_size=min_cluster_size, \\\n",
    "        min_samples=min_samples, alpha=alpha, \\\n",
    "        cluster_selection_method=cluster_selection_method)\n",
    "\n",
    "cutoff = 10\n",
    "X_train_PCA_hdbscanClustered = \\\n",
    "    hdb.fit_predict(X_train_PCA.loc[:,0:cutoff])\n",
    "\n",
    "X_train_PCA_hdbscanClustered = \\\n",
    "    pd.DataFrame(data=X_train_PCA_hdbscanClustered, \\\n",
    "    index=X_train.index, columns=['cluster'])\n",
    "\n",
    "countByCluster_hdbscan, countByLabel_hdbscan, \\\n",
    "    countMostFreq_hdbscan, accuracyDF_hdbscan, \\\n",
    "    overallAccuracy_hdbscan, accuracyByLabel_hdbscan \\\n",
    "    = analyzeCluster(X_train_PCA_hdbscanClustered, y_train)"
   ]
  },
  {
   "cell_type": "code",
   "execution_count": 29,
   "metadata": {},
   "outputs": [
    {
     "name": "stdout",
     "output_type": "stream",
     "text": [
      "Overall accuracy from HDBSCAN:  0.24696\n"
     ]
    }
   ],
   "source": [
    "print(\"Overall accuracy from HDBSCAN: \",overallAccuracy_hdbscan)"
   ]
  },
  {
   "cell_type": "code",
   "execution_count": 30,
   "metadata": {},
   "outputs": [
    {
     "name": "stdout",
     "output_type": "stream",
     "text": [
      "Cluster results for HDBSCAN\n"
     ]
    },
    {
     "data": {
      "text/html": [
       "<div>\n",
       "<style scoped>\n",
       "    .dataframe tbody tr th:only-of-type {\n",
       "        vertical-align: middle;\n",
       "    }\n",
       "\n",
       "    .dataframe tbody tr th {\n",
       "        vertical-align: top;\n",
       "    }\n",
       "\n",
       "    .dataframe thead th {\n",
       "        text-align: right;\n",
       "    }\n",
       "</style>\n",
       "<table border=\"1\" class=\"dataframe\">\n",
       "  <thead>\n",
       "    <tr style=\"text-align: right;\">\n",
       "      <th></th>\n",
       "      <th>cluster</th>\n",
       "      <th>clusterCount</th>\n",
       "    </tr>\n",
       "  </thead>\n",
       "  <tbody>\n",
       "    <tr>\n",
       "      <td>0</td>\n",
       "      <td>-1</td>\n",
       "      <td>42570</td>\n",
       "    </tr>\n",
       "    <tr>\n",
       "      <td>1</td>\n",
       "      <td>4</td>\n",
       "      <td>5140</td>\n",
       "    </tr>\n",
       "    <tr>\n",
       "      <td>2</td>\n",
       "      <td>7</td>\n",
       "      <td>942</td>\n",
       "    </tr>\n",
       "    <tr>\n",
       "      <td>3</td>\n",
       "      <td>0</td>\n",
       "      <td>605</td>\n",
       "    </tr>\n",
       "    <tr>\n",
       "      <td>4</td>\n",
       "      <td>6</td>\n",
       "      <td>295</td>\n",
       "    </tr>\n",
       "    <tr>\n",
       "      <td>5</td>\n",
       "      <td>3</td>\n",
       "      <td>252</td>\n",
       "    </tr>\n",
       "    <tr>\n",
       "      <td>6</td>\n",
       "      <td>1</td>\n",
       "      <td>119</td>\n",
       "    </tr>\n",
       "    <tr>\n",
       "      <td>7</td>\n",
       "      <td>5</td>\n",
       "      <td>45</td>\n",
       "    </tr>\n",
       "    <tr>\n",
       "      <td>8</td>\n",
       "      <td>2</td>\n",
       "      <td>32</td>\n",
       "    </tr>\n",
       "  </tbody>\n",
       "</table>\n",
       "</div>"
      ],
      "text/plain": [
       "   cluster  clusterCount\n",
       "0       -1         42570\n",
       "1        4          5140\n",
       "2        7           942\n",
       "3        0           605\n",
       "4        6           295\n",
       "5        3           252\n",
       "6        1           119\n",
       "7        5            45\n",
       "8        2            32"
      ]
     },
     "execution_count": 30,
     "metadata": {},
     "output_type": "execute_result"
    }
   ],
   "source": [
    "print(\"Cluster results for HDBSCAN\")\n",
    "countByCluster_hdbscan"
   ]
  },
  {
   "cell_type": "code",
   "execution_count": null,
   "metadata": {},
   "outputs": [],
   "source": []
  }
 ],
 "metadata": {
  "kernelspec": {
   "display_name": "Python 3",
   "language": "python",
   "name": "python3"
  },
  "language_info": {
   "codemirror_mode": {
    "name": "ipython",
    "version": 3
   },
   "file_extension": ".py",
   "mimetype": "text/x-python",
   "name": "python",
   "nbconvert_exporter": "python",
   "pygments_lexer": "ipython3",
   "version": "3.6.9"
  }
 },
 "nbformat": 4,
 "nbformat_minor": 2
}
